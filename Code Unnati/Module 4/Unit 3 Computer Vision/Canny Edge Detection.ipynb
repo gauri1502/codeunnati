{
 "cells": [
  {
   "cell_type": "code",
   "execution_count": 1,
   "id": "25329e03",
   "metadata": {},
   "outputs": [],
   "source": [
    "import cv2"
   ]
  },
  {
   "cell_type": "code",
   "execution_count": null,
   "id": "f2bce2aa",
   "metadata": {},
   "outputs": [],
   "source": [
    "img=cv2.imread(\"k2.jpg\")     #read Image\n",
    "#Setting Parameter values\n",
    "t_lower=100\n",
    "t_upper=150\n",
    "\n",
    "#Applying the Canny Edge filter\n",
    "edge=cv2.Canny(img,t_lower,t_upper)\n",
    "\n",
    "cv2.imshow('Original',img)\n",
    "cv2.imshow(\"Edge\",edge)\n",
    "cv2.waitKey(0)\n",
    "cv2.destroyAllWindows()"
   ]
  },
  {
   "cell_type": "code",
   "execution_count": null,
   "id": "9dcce491",
   "metadata": {},
   "outputs": [],
   "source": [
    "img=cv2.imread(\"c8ed4818b6473fbb4dbb0c75bc0fec6e.jpg\")     #read Image\n",
    "#Setting Parameter values\n",
    "t_lower=100\n",
    "t_upper=150\n",
    "\n",
    "#Applying the Canny Edge filter\n",
    "edge=cv2.Canny(img,t_lower,t_upper)\n",
    "\n",
    "cv2.imshow('Original',img)\n",
    "cv2.imshow(\"Edge\",edge)\n",
    "cv2.waitKey(0)\n",
    "cv2.destroyAllWindows()"
   ]
  },
  {
   "cell_type": "code",
   "execution_count": null,
   "id": "e6dd7d94",
   "metadata": {},
   "outputs": [],
   "source": []
  },
  {
   "cell_type": "code",
   "execution_count": null,
   "id": "71fc5ec2",
   "metadata": {},
   "outputs": [],
   "source": []
  }
 ],
 "metadata": {
  "kernelspec": {
   "display_name": "Python 3 (ipykernel)",
   "language": "python",
   "name": "python3"
  },
  "language_info": {
   "codemirror_mode": {
    "name": "ipython",
    "version": 3
   },
   "file_extension": ".py",
   "mimetype": "text/x-python",
   "name": "python",
   "nbconvert_exporter": "python",
   "pygments_lexer": "ipython3",
   "version": "3.9.13"
  }
 },
 "nbformat": 4,
 "nbformat_minor": 5
}
