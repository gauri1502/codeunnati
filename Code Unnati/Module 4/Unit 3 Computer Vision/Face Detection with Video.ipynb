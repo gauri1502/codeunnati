{
 "cells": [
  {
   "cell_type": "markdown",
   "id": "1baa2cd5",
   "metadata": {},
   "source": [
    "## "
   ]
  },
  {
   "cell_type": "code",
   "execution_count": 10,
   "id": "a2208a8a",
   "metadata": {},
   "outputs": [],
   "source": [
    "# import the necessary packages\n",
    "import cv2\n",
    "\n",
    "\n",
    "faceCascade = cv2.CascadeClassifier(\"haarcascadefrontalface.xml\")\n",
    "# to capture video from webcam\n",
    "cap = cv2.VideoCapture(0)\n",
    "# to use a video file as input\n",
    "#cap = cv2.VideoCapture(\"GAURI.mp4\")\n",
    "while True:\n",
    "#     read the frame\n",
    "    _,img = cap.read()\n",
    "#     convert to grayscale\n",
    "    gray = cv2.cvtColor(img,cv2.COLOR_BGR2GRAY) \n",
    "#     detect the faces \n",
    "    faces = faceCascade.detectMultiScale(gray, 1.1, 4)\n",
    "#     draw the rectangle around each faces\n",
    "    for( x,y,w,h) in faces : \n",
    "        cv2.rectangle(img,(x,y),(x+w, y+h),(0,255,0),2)\n",
    "#  desplay \n",
    "    cv2.imshow('img',img)\\\n",
    "#     stop if escap key is pressed\n",
    "    k = cv2.waitKey(300) & 0xff\n",
    "    if k == 27:\n",
    "        break\n",
    "        \n",
    "    \n",
    "cv2.destroyAllWindows()\n",
    "# release the video capture object\n",
    "cap.release()"
   ]
  },
  {
   "cell_type": "code",
   "execution_count": null,
   "id": "c65074de",
   "metadata": {},
   "outputs": [],
   "source": []
  }
 ],
 "metadata": {
  "kernelspec": {
   "display_name": "Python 3 (ipykernel)",
   "language": "python",
   "name": "python3"
  },
  "language_info": {
   "codemirror_mode": {
    "name": "ipython",
    "version": 3
   },
   "file_extension": ".py",
   "mimetype": "text/x-python",
   "name": "python",
   "nbconvert_exporter": "python",
   "pygments_lexer": "ipython3",
   "version": "3.9.13"
  }
 },
 "nbformat": 4,
 "nbformat_minor": 5
}
