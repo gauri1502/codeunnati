{
 "cells": [
  {
   "cell_type": "code",
   "execution_count": 1,
   "id": "8d4cf7df",
   "metadata": {},
   "outputs": [],
   "source": [
    "from tkinter import *\n",
    "import ttk\n",
    "from tkinter.ttk import *"
   ]
  },
  {
   "cell_type": "code",
   "execution_count": 2,
   "id": "f117632d",
   "metadata": {},
   "outputs": [
    {
     "name": "stderr",
     "output_type": "stream",
     "text": [
      "Exception in Tkinter callback\n",
      "Traceback (most recent call last):\n",
      "  File \"C:\\Users\\91942\\anaconda3\\lib\\tkinter\\__init__.py\", line 1892, in __call__\n",
      "    return self.func(*args)\n",
      "  File \"C:\\Users\\91942\\AppData\\Local\\Temp\\ipykernel_11956\\338972319.py\", line 13, in clicked\n",
      "    label.comfigure(text=name)\n",
      "AttributeError: 'Label' object has no attribute 'comfigure'\n",
      "Exception in Tkinter callback\n",
      "Traceback (most recent call last):\n",
      "  File \"C:\\Users\\91942\\anaconda3\\lib\\tkinter\\__init__.py\", line 1892, in __call__\n",
      "    return self.func(*args)\n",
      "  File \"C:\\Users\\91942\\AppData\\Local\\Temp\\ipykernel_11956\\338972319.py\", line 13, in clicked\n",
      "    label.comfigure(text=name)\n",
      "AttributeError: 'Label' object has no attribute 'comfigure'\n",
      "Exception in Tkinter callback\n",
      "Traceback (most recent call last):\n",
      "  File \"C:\\Users\\91942\\anaconda3\\lib\\tkinter\\__init__.py\", line 1892, in __call__\n",
      "    return self.func(*args)\n",
      "  File \"C:\\Users\\91942\\AppData\\Local\\Temp\\ipykernel_11956\\338972319.py\", line 13, in clicked\n",
      "    label.comfigure(text=name)\n",
      "AttributeError: 'Label' object has no attribute 'comfigure'\n"
     ]
    }
   ],
   "source": [
    "window = Tk()\n",
    "window.title(\"Welcome to Python Tkinter\")\n",
    "window.configure(bg='cyan')\n",
    "window.geometry('1000x700')\n",
    "#Adding label on the Window\n",
    "label= Label(window,text=\"Hello\", font=(\"Helvetica 15\"))\n",
    "label.grid(column=0,row=0)\n",
    "#Adding the Entry on the Window\n",
    "txt=Entry(window, width=50)\n",
    "txt.grid(column=50, row=1)\n",
    "def clicked():                  #after clicking,it will add the user added string to the name \n",
    "       name=\"Welcome\"+txt.get()\n",
    "       label.comfigure(text=name)\n",
    "#creating a Button on the window\n",
    "btn= Button(window,text=\"Click me\", command=clicked)\n",
    "btn.grid(column=100, row=50)\n",
    "def clicked():\n",
    "     label.configure(text=\"After,Button was clicked!!,we have seen the change\")\n",
    "window.mainloop()"
   ]
  },
  {
   "cell_type": "code",
   "execution_count": 3,
   "id": "00f98894",
   "metadata": {},
   "outputs": [],
   "source": [
    "# "
   ]
  }
 ],
 "metadata": {
  "kernelspec": {
   "display_name": "Python 3 (ipykernel)",
   "language": "python",
   "name": "python3"
  },
  "language_info": {
   "codemirror_mode": {
    "name": "ipython",
    "version": 3
   },
   "file_extension": ".py",
   "mimetype": "text/x-python",
   "name": "python",
   "nbconvert_exporter": "python",
   "pygments_lexer": "ipython3",
   "version": "3.9.12"
  }
 },
 "nbformat": 4,
 "nbformat_minor": 5
}
