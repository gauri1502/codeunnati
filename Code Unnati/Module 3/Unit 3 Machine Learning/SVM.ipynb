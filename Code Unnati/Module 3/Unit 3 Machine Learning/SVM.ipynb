{
 "cells": [
  {
   "cell_type": "code",
   "execution_count": 1,
   "id": "0174adb6",
   "metadata": {},
   "outputs": [],
   "source": [
    "from sklearn import datasets \n",
    "from sklearn.model_selection import train_test_split\n",
    "from sklearn import svm\n",
    "from sklearn import metrics\n"
   ]
  },
  {
   "cell_type": "code",
   "execution_count": 2,
   "id": "254359dc",
   "metadata": {},
   "outputs": [],
   "source": [
    "#Load the dataset\n",
    "cancer=datasets.load_breast_cancer()"
   ]
  },
  {
   "cell_type": "code",
   "execution_count": 3,
   "id": "32cf4131",
   "metadata": {},
   "outputs": [
    {
     "name": "stdout",
     "output_type": "stream",
     "text": [
      "Features: ['mean radius' 'mean texture' 'mean perimeter' 'mean area'\n",
      " 'mean smoothness' 'mean compactness' 'mean concavity'\n",
      " 'mean concave points' 'mean symmetry' 'mean fractal dimension'\n",
      " 'radius error' 'texture error' 'perimeter error' 'area error'\n",
      " 'smoothness error' 'compactness error' 'concavity error'\n",
      " 'concave points error' 'symmetry error' 'fractal dimension error'\n",
      " 'worst radius' 'worst texture' 'worst perimeter' 'worst area'\n",
      " 'worst smoothness' 'worst compactness' 'worst concavity'\n",
      " 'worst concave points' 'worst symmetry' 'worst fractal dimension']\n",
      "Labels: ['malignant' 'benign']\n"
     ]
    }
   ],
   "source": [
    "#print the name of the 13 features\n",
    "print(\"Features:\",cancer.feature_names)\n",
    "#print the label type of cancer('malignant','benign')\n",
    "print(\"Labels:\",cancer.target_names)"
   ]
  },
  {
   "cell_type": "code",
   "execution_count": 5,
   "id": "9b1fbc79",
   "metadata": {},
   "outputs": [],
   "source": [
    "#Split the data into training/testing sets \n",
    "X_train,X_test,y_train,y_test= train_test_split(cancer.data,cancer.target,test_size=0.3,random_state=109) #70%"
   ]
  },
  {
   "cell_type": "markdown",
   "id": "f5738364",
   "metadata": {},
   "source": [
    "# Generating Model"
   ]
  },
  {
   "cell_type": "code",
   "execution_count": 6,
   "id": "0069c035",
   "metadata": {},
   "outputs": [
    {
     "name": "stdout",
     "output_type": "stream",
     "text": [
      "(398,)\n"
     ]
    }
   ],
   "source": [
    "clf=svm.SVC(kernel='linear') #linear kernel\n",
    "print(y_train.shape)"
   ]
  },
  {
   "cell_type": "markdown",
   "id": "c8e8469d",
   "metadata": {},
   "source": [
    "# Train the model using the training test"
   ]
  },
  {
   "cell_type": "code",
   "execution_count": 7,
   "id": "229cf258",
   "metadata": {},
   "outputs": [
    {
     "data": {
      "text/plain": [
       "SVC(kernel='linear')"
      ]
     },
     "execution_count": 7,
     "metadata": {},
     "output_type": "execute_result"
    }
   ],
   "source": [
    "clf.fit(X_train,y_train)"
   ]
  },
  {
   "cell_type": "code",
   "execution_count": 18,
   "id": "ba3bbfcd",
   "metadata": {},
   "outputs": [],
   "source": [
    "#Predict the response for the dataset\n",
    "y_pred= clf.predict(X_test)"
   ]
  },
  {
   "cell_type": "code",
   "execution_count": 20,
   "id": "01e782d3",
   "metadata": {},
   "outputs": [
    {
     "name": "stdout",
     "output_type": "stream",
     "text": [
      "Accuracy: 0.9649122807017544\n",
      "Precision: 0.9811320754716981\n",
      "Recall: 0.9629629629629629\n"
     ]
    }
   ],
   "source": [
    "#Evaluating the model\n",
    "#model Accuracy:how often is the classifier coreect?\n",
    "print(\"Accuracy:\",metrics.accuracy_score(y_test,y_pred))\n",
    "#model Precision: what percentageof the positive tuples are labelled as such ?\n",
    "print(\"Precision:\", metrics.precision_score(y_test,y_pred))\n",
    "#Model recall\n",
    "print(\"Recall:\",metrics.recall_score(y_test,y_pred))"
   ]
  },
  {
   "cell_type": "code",
   "execution_count": null,
   "id": "713bcec7",
   "metadata": {},
   "outputs": [],
   "source": []
  },
  {
   "cell_type": "code",
   "execution_count": null,
   "id": "10401e1e",
   "metadata": {},
   "outputs": [],
   "source": []
  }
 ],
 "metadata": {
  "kernelspec": {
   "display_name": "Python 3 (ipykernel)",
   "language": "python",
   "name": "python3"
  },
  "language_info": {
   "codemirror_mode": {
    "name": "ipython",
    "version": 3
   },
   "file_extension": ".py",
   "mimetype": "text/x-python",
   "name": "python",
   "nbconvert_exporter": "python",
   "pygments_lexer": "ipython3",
   "version": "3.9.13"
  }
 },
 "nbformat": 4,
 "nbformat_minor": 5
}
