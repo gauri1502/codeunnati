{
 "cells": [
  {
   "cell_type": "code",
   "execution_count": 1,
   "id": "6e4eb857",
   "metadata": {},
   "outputs": [],
   "source": [
    "from sklearn import preprocessing\n",
    "#Generating the guassian Navie Byes model\n",
    "from sklearn.naive_bayes import GaussianNB"
   ]
  },
  {
   "cell_type": "code",
   "execution_count": 2,
   "id": "b3e87dcf",
   "metadata": {},
   "outputs": [],
   "source": [
    "# Assign features and encoding labels\n",
    "weather=['Sunny','Sunny','Overcast','Rainy','Rainy','Rainy','Overcast','Sunny','Sunny',\n",
    "'Rainy','Sunny','Overcast','Overcast','Rainy']\n",
    "humidity=['High','High','High','Medium','Low','Low','Low','Medium','Low','Medium','Medium','Medium','High','Medium']\n",
    "\n",
    "batfirst=['No','No','Yes','Yes','Yes','No','Yes','No','Yes','Yes','Yes','Yes','Yes','No']"
   ]
  },
  {
   "cell_type": "code",
   "execution_count": 3,
   "id": "24c34206",
   "metadata": {},
   "outputs": [
    {
     "name": "stdout",
     "output_type": "stream",
     "text": [
      "[2 2 0 1 1 1 0 2 2 1 2 0 0 1] [0 0 0 2 1 1 1 2 1 2 2 2 0 2] [0 0 1 1 1 0 1 0 1 1 1 1 1 0]\n"
     ]
    }
   ],
   "source": [
    "#creating Label encoder\n",
    "le=preprocessing.LabelEncoder()\n",
    "#Converting string labels into number\n",
    "weather_encoded=le.fit_transform(weather)\n",
    "hum_encoded=le.fit_transform(humidity)\n",
    "label=le.fit_transform(batfirst)\n",
    "print(weather_encoded,hum_encoded,label)"
   ]
  },
  {
   "cell_type": "code",
   "execution_count": 4,
   "id": "f0fd5a50",
   "metadata": {},
   "outputs": [],
   "source": [
    "#Combining weather  and humidity in a single tuple as features\n",
    "features=list(zip(weather_encoded,hum_encoded))"
   ]
  },
  {
   "cell_type": "code",
   "execution_count": 5,
   "id": "6dd537d2",
   "metadata": {},
   "outputs": [
    {
     "data": {
      "text/plain": [
       "GaussianNB()"
      ]
     },
     "execution_count": 5,
     "metadata": {},
     "output_type": "execute_result"
    }
   ],
   "source": [
    "#Create a Gaussian classifier\n",
    "model= GaussianNB()\n",
    "model.fit(features,label) #train the model using training set."
   ]
  },
  {
   "cell_type": "code",
   "execution_count": 7,
   "id": "92e7c59c",
   "metadata": {},
   "outputs": [
    {
     "name": "stdout",
     "output_type": "stream",
     "text": [
      "Enter weather and Humidity conditions:\n",
      "1 0\n"
     ]
    }
   ],
   "source": [
    "print(\"Enter weather and Humidity conditions:\")\n",
    "w,h=map(int,input().split())\n",
    "#'''''' for weather :0=overcast 1=Rainy 2:Sunny For Humidity 0= High 1= Low   2 =Medium"
   ]
  },
  {
   "cell_type": "code",
   "execution_count": 8,
   "id": "0bfd6f1b",
   "metadata": {},
   "outputs": [
    {
     "name": "stdout",
     "output_type": "stream",
     "text": [
      "[1]\n"
     ]
    }
   ],
   "source": [
    "#Perdict Output\n",
    "predicted=model.predict([[w,h]])\n",
    "print(predicted) #[1] -> that means yes, the player should bat first and [0] that means no should ball first"
   ]
  },
  {
   "cell_type": "code",
   "execution_count": null,
   "id": "90647864",
   "metadata": {},
   "outputs": [],
   "source": []
  }
 ],
 "metadata": {
  "kernelspec": {
   "display_name": "Python 3 (ipykernel)",
   "language": "python",
   "name": "python3"
  },
  "language_info": {
   "codemirror_mode": {
    "name": "ipython",
    "version": 3
   },
   "file_extension": ".py",
   "mimetype": "text/x-python",
   "name": "python",
   "nbconvert_exporter": "python",
   "pygments_lexer": "ipython3",
   "version": "3.9.13"
  }
 },
 "nbformat": 4,
 "nbformat_minor": 5
}
