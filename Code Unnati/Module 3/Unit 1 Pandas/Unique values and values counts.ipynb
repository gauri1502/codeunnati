{
 "cells": [
  {
   "cell_type": "code",
   "execution_count": 4,
   "id": "5de83216",
   "metadata": {},
   "outputs": [
    {
     "name": "stdout",
     "output_type": "stream",
     "text": [
      "             Model Name  Gear  Cylinder\n",
      "0               Valiant     3         6\n",
      "1            Duster 360     3         8\n",
      "2             Merc 240D     4         4\n",
      "3              Merc 230     4         4\n",
      "4              Merc 280     5         6\n",
      "5             Merc 280C     4         6\n",
      "6            Merc 450SE     3         8\n",
      "7            Merc 450SL     3         8\n",
      "8           Merc 450SLC     3         8\n",
      "9    Cadillac Fleetwood     3         8\n",
      "10  Lincoln Continental     3         8\n",
      "11    Chrysler Imperial     3         8\n",
      "12             Fiat 128     4         4\n",
      "13          Honda Civic     4         4\n",
      "14       Toyota Corolla     4         4\n"
     ]
    }
   ],
   "source": [
    "import pandas as pd\n",
    "car_data={\"Model Name\":['Valiant',\n",
    "                       'Duster 360',\n",
    "                       'Merc 240D',\n",
    "                       'Merc 230',\n",
    "                       'Merc 280',\n",
    "                       \"Merc 280C\",\n",
    "                       'Merc 450SE',\n",
    "                       'Merc 450SL',\n",
    "                       'Merc 450SLC',\n",
    "                       'Cadillac Fleetwood',\n",
    "                       'Lincoln Continental',\n",
    "                       'Chrysler Imperial',\n",
    "                       'Fiat 128',\n",
    "                       'Honda Civic',\n",
    "                       'Toyota Corolla'],\n",
    "         'Gear':[3,3,4,4,5,4,3,3,3,3,3,3,4,4,4],\n",
    "         'Cylinder':[6,8,4,4,6,6,8,8,8,8,8,8,4,4,4]}\n",
    "car_df=pd.DataFrame(car_data)\n",
    "print(car_df)"
   ]
  },
  {
   "cell_type": "code",
   "execution_count": 6,
   "id": "b35a1f6b",
   "metadata": {},
   "outputs": [
    {
     "name": "stdout",
     "output_type": "stream",
     "text": [
      "Unique values present in Gear column are:[3 4 5]\n",
      "Unique values present in Cylinder column are:[6 8 4]\n"
     ]
    }
   ],
   "source": [
    "#counting the unique values in the group\n",
    "import pandas as pd\n",
    "car_data={\"Model Name\":['Valiant',\n",
    "                       'Duster 360',\n",
    "                       'Merc 240D',\n",
    "                       'Merc 230',\n",
    "                       'Merc 280',\n",
    "                       \"Merc 280C\",\n",
    "                       'Merc 450SE',\n",
    "                       'Merc 450SL',\n",
    "                       'Merc 450SLC',\n",
    "                       'Cadillac Fleetwood',\n",
    "                       'Lincoln Continental',\n",
    "                       'Chrysler Imperial',\n",
    "                       'Fiat 128',\n",
    "                       'Honda Civic',\n",
    "                       'Toyota Corolla'],\n",
    "         'Gear':[3,3,4,4,5,4,3,3,3,3,3,3,4,4,4],\n",
    "         'Cylinder':[6,8,4,4,6,6,8,8,8,8,8,8,4,4,4]}\n",
    "#creating DataFrame for the data using pandas\n",
    "car_df=pd.DataFrame(car_data)\n",
    "#Printing the unique values present in the Gear colum using unique() function\n",
    "print(f\"Unique values present in Gear column are:{car_df['Gear'].unique()}\")\n",
    "#Printing the unique values present in the Cylinder colum using unique() function\n",
    "print(f\"Unique values present in Cylinder column are:{car_df['Cylinder'].unique()}\")"
   ]
  },
  {
   "cell_type": "code",
   "execution_count": 7,
   "id": "17ebabe1",
   "metadata": {},
   "outputs": [
    {
     "name": "stdout",
     "output_type": "stream",
     "text": [
      "Unique values present in Gear column are:[3 4 5]\n",
      "Unique values present in Cylinder column are:[6 8 4]\n"
     ]
    }
   ],
   "source": [
    "#Another way of the counting the unique values in the group\n",
    "import pandas as pd\n",
    "car_data={\"Model Name\":['Valiant',\n",
    "                       'Duster 360',\n",
    "                       'Merc 240D',\n",
    "                       'Merc 230',\n",
    "                       'Merc 280',\n",
    "                       \"Merc 280C\",\n",
    "                       'Merc 450SE',\n",
    "                       'Merc 450SL',\n",
    "                       'Merc 450SLC',\n",
    "                       'Cadillac Fleetwood',\n",
    "                       'Lincoln Continental',\n",
    "                       'Chrysler Imperial',\n",
    "                       'Fiat 128',\n",
    "                       'Honda Civic',\n",
    "                       'Toyota Corolla'],\n",
    "         'Gear':[3,3,4,4,5,4,3,3,3,3,3,3,4,4,4],\n",
    "         'Cylinder':[6,8,4,4,6,6,8,8,8,8,8,8,4,4,4]}\n",
    "#creating DataFrame for the data using pandas\n",
    "car_df=pd.DataFrame(car_data)\n",
    "#finding the unique values in the groups using unique() method\n",
    "unique_gear=pd.unique(car_df.Gear)\n",
    "unique_cyl=pd.unique(car_df.Cylinder)\n",
    "#Printing the unique values present in the Gear colum using unique() function\n",
    "print(f\"Unique values present in Gear column are:{unique_gear}\")\n",
    "#Printing the unique values present in the Cylinder colum using unique() function\n",
    "print(f\"Unique values present in Cylinder column are:{unique_cyl}\")"
   ]
  },
  {
   "cell_type": "code",
   "execution_count": 8,
   "id": "1174a0b1",
   "metadata": {},
   "outputs": [
    {
     "name": "stdout",
     "output_type": "stream",
     "text": [
      "Number of Unique values present in Gear column are:3    8\n",
      "4    6\n",
      "5    1\n",
      "Name: Gear, dtype: int64\n",
      "Unique values present in Cylinder column are:8    7\n",
      "4    5\n",
      "6    3\n",
      "Name: Cylinder, dtype: int64\n"
     ]
    }
   ],
   "source": [
    "#counting the number of unique values in the group\n",
    "import pandas as pd\n",
    "car_data={\"Model Name\":['Valiant',\n",
    "                       'Duster 360',\n",
    "                       'Merc 240D',\n",
    "                       'Merc 230',\n",
    "                       'Merc 280',\n",
    "                       \"Merc 280C\",\n",
    "                       'Merc 450SE',\n",
    "                       'Merc 450SL',\n",
    "                       'Merc 450SLC',\n",
    "                       'Cadillac Fleetwood',\n",
    "                       'Lincoln Continental',\n",
    "                       'Chrysler Imperial',\n",
    "                       'Fiat 128',\n",
    "                       'Honda Civic',\n",
    "                       'Toyota Corolla'],\n",
    "         'Gear':[3,3,4,4,5,4,3,3,3,3,3,3,4,4,4],\n",
    "         'Cylinder':[6,8,4,4,6,6,8,8,8,8,8,8,4,4,4]}\n",
    "#creating DataFrame for the data using pandas\n",
    "car_df=pd.DataFrame(car_data)\n",
    "#counting the number of unique values in the group using value_counts function\n",
    "gear_count=pd.value_counts(car_df.Gear)\n",
    "cyl_count=pd.value_counts(car_df.Cylinder)\n",
    "print(f\"Number of Unique values present in Gear column are:{gear_count}\")\n",
    "print(f\"Unique values present in Cylinder column are:{cyl_count}\")\n"
   ]
  },
  {
   "cell_type": "code",
   "execution_count": 9,
   "id": "9549e05c",
   "metadata": {},
   "outputs": [
    {
     "name": "stdout",
     "output_type": "stream",
     "text": [
      "Number of Unique values present in Gear column are:3    8\n",
      "4    6\n",
      "5    1\n",
      "Name: Gear, dtype: int64\n",
      "Unique values present in Cylinder column are:8    7\n",
      "4    5\n",
      "6    3\n",
      "Name: Cylinder, dtype: int64\n"
     ]
    }
   ],
   "source": [
    "# another way of counting the number of unique values in the group\n",
    "import pandas as pd\n",
    "car_data={\"Model Name\":['Valiant',\n",
    "                       'Duster 360',\n",
    "                       'Merc 240D',\n",
    "                       'Merc 230',\n",
    "                       'Merc 280',\n",
    "                       \"Merc 280C\",\n",
    "                       'Merc 450SE',\n",
    "                       'Merc 450SL',\n",
    "                       'Merc 450SLC',\n",
    "                       'Cadillac Fleetwood',\n",
    "                       'Lincoln Continental',\n",
    "                       'Chrysler Imperial',\n",
    "                       'Fiat 128',\n",
    "                       'Honda Civic',\n",
    "                       'Toyota Corolla'],\n",
    "         'Gear':[3,3,4,4,5,4,3,3,3,3,3,3,4,4,4],\n",
    "         'Cylinder':[6,8,4,4,6,6,8,8,8,8,8,8,4,4,4]}\n",
    "#creating DataFrame for the data using pandas\n",
    "car_df=pd.DataFrame(car_data)\n",
    "#counting the number of unique values in the group using value_counts function\n",
    "gear_count=car_df['Gear'].value_counts()\n",
    "cyl_count=car_df['Cylinder'].value_counts()\n",
    "print(f\"Number of Unique values present in Gear column are:{gear_count}\")\n",
    "print(f\"Unique values present in Cylinder column are:{cyl_count}\")\n"
   ]
  },
  {
   "cell_type": "code",
   "execution_count": 10,
   "id": "a9582c97",
   "metadata": {},
   "outputs": [
    {
     "name": "stdout",
     "output_type": "stream",
     "text": [
      "Number of unique values present in Model Name:15\n",
      "Number of unique values present in Gear:3\n",
      "Number of unique values present in Cylinder:3\n"
     ]
    }
   ],
   "source": [
    "import pandas as pd\n",
    "car_data={\"Model Name\":['Valiant',\n",
    "                       'Duster 360',\n",
    "                       'Merc 240D',\n",
    "                       'Merc 230',\n",
    "                       'Merc 280',\n",
    "                       \"Merc 280C\",\n",
    "                       'Merc 450SE',\n",
    "                       'Merc 450SL',\n",
    "                       'Merc 450SLC',\n",
    "                       'Cadillac Fleetwood',\n",
    "                       'Lincoln Continental',\n",
    "                       'Chrysler Imperial',\n",
    "                       'Fiat 128',\n",
    "                       'Honda Civic',\n",
    "                       'Toyota Corolla'],\n",
    "         'Gear':[3,3,4,4,5,4,3,3,3,3,3,3,4,4,4],\n",
    "         'Cylinder':[6,8,4,4,6,6,8,8,8,8,8,8,4,4,4]}\n",
    "#creating DataFrame for the data using pandas\n",
    "car_df=pd.DataFrame(car_data)\n",
    "name_count=pd.unique(car_df['Model Name'])\n",
    "gear_count=pd.unique(car_df['Gear'])\n",
    "cyl_count=pd.unique(car_df['Cylinder'])\n",
    "#initializing variable to 0 for counting\n",
    "name_unique=0\n",
    "gear_unique=0\n",
    "cyl_unique=0\n",
    "# writing separate for loops for each groups\n",
    "for item in name_count :\n",
    "    name_unique+=1\n",
    "    \n",
    "\n",
    "for item in gear_count :\n",
    "    gear_unique+=1\n",
    "    \n",
    "for item in cyl_count :\n",
    "    cyl_unique+=1\n",
    "    \n",
    "print(f\"Number of unique values present in Model Name:{name_unique}\")\n",
    "print(f\"Number of unique values present in Gear:{gear_unique}\")\n",
    "print(f\"Number of unique values present in Cylinder:{cyl_unique}\")"
   ]
  },
  {
   "cell_type": "code",
   "execution_count": null,
   "id": "d6ae2793",
   "metadata": {},
   "outputs": [],
   "source": []
  }
 ],
 "metadata": {
  "kernelspec": {
   "display_name": "Python 3 (ipykernel)",
   "language": "python",
   "name": "python3"
  },
  "language_info": {
   "codemirror_mode": {
    "name": "ipython",
    "version": 3
   },
   "file_extension": ".py",
   "mimetype": "text/x-python",
   "name": "python",
   "nbconvert_exporter": "python",
   "pygments_lexer": "ipython3",
   "version": "3.9.12"
  }
 },
 "nbformat": 4,
 "nbformat_minor": 5
}
