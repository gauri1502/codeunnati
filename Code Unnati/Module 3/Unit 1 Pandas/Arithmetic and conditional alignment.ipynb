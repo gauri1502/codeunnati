{
 "cells": [
  {
   "cell_type": "code",
   "execution_count": 2,
   "id": "a1831756",
   "metadata": {},
   "outputs": [
    {
     "name": "stdout",
     "output_type": "stream",
     "text": [
      "       Weight    Name  Age\n",
      "Row_1      45     Sam   14\n",
      "Row_2      88  Andrea   25\n",
      "Row_3      56    Alex   55\n",
      "Row_4      15   Robin    8\n",
      "Row_5      71     Kia   21\n"
     ]
    }
   ],
   "source": [
    "import pandas as pd\n",
    "#creating a dataframe\n",
    "df = pd.DataFrame({'Weight':[45,88,56,15,71],'Name':['Sam','Andrea','Alex','Robin','Kia'],\"Age\":[14,25,55,8,21]})\n",
    "index_=[\"Row_1\",\"Row_2\",'Row_3','Row_4','Row_5']\n",
    "df.index=index_\n",
    "print(df)"
   ]
  },
  {
   "cell_type": "code",
   "execution_count": 3,
   "id": "83d0a753",
   "metadata": {},
   "outputs": [
    {
     "name": "stdout",
     "output_type": "stream",
     "text": [
      "Andrea\n"
     ]
    }
   ],
   "source": [
    "result=df.loc['Row_2','Name']\n",
    "print(result)"
   ]
  },
  {
   "cell_type": "code",
   "execution_count": 5,
   "id": "9ae9cf0d",
   "metadata": {},
   "outputs": [
    {
     "name": "stdout",
     "output_type": "stream",
     "text": [
      "        A   B   C   D\n",
      "Row_1  12   7  20  14\n",
      "Row_2   4   2  16   3\n",
      "Row_3   5  54  11   8\n",
      "Row_4   2   3   3   2\n",
      "Row_5   1   4   8   6\n"
     ]
    }
   ],
   "source": [
    "import pandas as pd\n",
    "df=pd.DataFrame({\"A\":[12,4,5,2,1],\"B\":[7,2,54,3,4],\"C\":[20,16,11,3,8],\"D\":[14,3,8,2,6]})\n",
    "index_=[\"Row_1\",\"Row_2\",'Row_3','Row_4','Row_5']\n",
    "df.index=index_\n",
    "print(df)"
   ]
  },
  {
   "cell_type": "code",
   "execution_count": 8,
   "id": "acf30abb",
   "metadata": {},
   "outputs": [
    {
     "name": "stdout",
     "output_type": "stream",
     "text": [
      "        A   D\n",
      "Row_1  12  14\n",
      "Row_2   4   3\n",
      "Row_3   5   8\n",
      "Row_4   2   2\n",
      "Row_5   1   6\n"
     ]
    }
   ],
   "source": [
    "result=df.loc[:,['A','D']]\n",
    "print(result)"
   ]
  },
  {
   "cell_type": "code",
   "execution_count": null,
   "id": "dc2dcad3",
   "metadata": {},
   "outputs": [],
   "source": []
  }
 ],
 "metadata": {
  "kernelspec": {
   "display_name": "Python 3 (ipykernel)",
   "language": "python",
   "name": "python3"
  },
  "language_info": {
   "codemirror_mode": {
    "name": "ipython",
    "version": 3
   },
   "file_extension": ".py",
   "mimetype": "text/x-python",
   "name": "python",
   "nbconvert_exporter": "python",
   "pygments_lexer": "ipython3",
   "version": "3.9.12"
  }
 },
 "nbformat": 4,
 "nbformat_minor": 5
}
