{
 "cells": [
  {
   "cell_type": "code",
   "execution_count": 1,
   "id": "7bd2711e",
   "metadata": {},
   "outputs": [
    {
     "name": "stdout",
     "output_type": "stream",
     "text": [
      "1,2,john\n"
     ]
    }
   ],
   "source": [
    "a,b,c=1,2,\"john\"\n",
    "print(a,b,c,sep=\",\")"
   ]
  },
  {
   "cell_type": "code",
   "execution_count": 2,
   "id": "43800b26",
   "metadata": {},
   "outputs": [
    {
     "name": "stdout",
     "output_type": "stream",
     "text": [
      "1 1 1\n"
     ]
    }
   ],
   "source": [
    "a=b=c=1\n",
    "print(a,b,c)"
   ]
  },
  {
   "cell_type": "code",
   "execution_count": 3,
   "id": "63fc19c0",
   "metadata": {
    "scrolled": true
   },
   "outputs": [
    {
     "name": "stdout",
     "output_type": "stream",
     "text": [
      "2425876343088\n",
      "2425876343088\n",
      "2425876343088\n"
     ]
    }
   ],
   "source": [
    "print(id(a))\n",
    "print(id(b))\n",
    "print(id(c))"
   ]
  },
  {
   "cell_type": "code",
   "execution_count": 4,
   "id": "71f3ecad",
   "metadata": {},
   "outputs": [
    {
     "data": {
      "text/plain": [
       "float"
      ]
     },
     "execution_count": 4,
     "metadata": {},
     "output_type": "execute_result"
    }
   ],
   "source": [
    "#typeof \n",
    "a=3.12\n",
    "type(a)"
   ]
  },
  {
   "cell_type": "code",
   "execution_count": 5,
   "id": "67e5a9f6",
   "metadata": {},
   "outputs": [
    {
     "data": {
      "text/plain": [
       "int"
      ]
     },
     "execution_count": 5,
     "metadata": {},
     "output_type": "execute_result"
    }
   ],
   "source": [
    "b=2\n",
    "type(b)"
   ]
  },
  {
   "cell_type": "code",
   "execution_count": 6,
   "id": "a544eb35",
   "metadata": {},
   "outputs": [
    {
     "name": "stdout",
     "output_type": "stream",
     "text": [
      "3.12\n",
      "2\n"
     ]
    }
   ],
   "source": [
    "print(a,b,sep=\"\\n\")"
   ]
  },
  {
   "cell_type": "code",
   "execution_count": 7,
   "id": "c2ef9990",
   "metadata": {},
   "outputs": [
    {
     "name": "stdout",
     "output_type": "stream",
     "text": [
      "Python is a programming language\n"
     ]
    }
   ],
   "source": [
    "str1= \"Python is a programming language\"\n",
    "print(str1)"
   ]
  },
  {
   "cell_type": "code",
   "execution_count": 8,
   "id": "8f69d063",
   "metadata": {},
   "outputs": [
    {
     "name": "stdout",
     "output_type": "stream",
     "text": [
      "P\n",
      "thon is a prog\n",
      " is a progra\n"
     ]
    }
   ],
   "source": [
    "print(str1[0])\n",
    "print(str1[2:16])\n",
    "print(str1[6:18])"
   ]
  },
  {
   "cell_type": "code",
   "execution_count": 9,
   "id": "80e8ba3b",
   "metadata": {},
   "outputs": [
    {
     "name": "stdout",
     "output_type": "stream",
     "text": [
      "Python is a programming languag\n",
      "programming languag\n",
      "anguage\n",
      "Python is a programming language\n",
      "Python is a programming language\n"
     ]
    }
   ],
   "source": [
    "print(str1[:-1])\n",
    "print(str1[-20:-1])\n",
    "print(str1[-7:])\n",
    "print(str1[-40:])\n",
    "print(str1[:])"
   ]
  },
  {
   "cell_type": "code",
   "execution_count": 10,
   "id": "dd6e887e",
   "metadata": {},
   "outputs": [
    {
     "ename": "TypeError",
     "evalue": "'str' object does not support item assignment",
     "output_type": "error",
     "traceback": [
      "\u001b[1;31m---------------------------------------------------------------------------\u001b[0m",
      "\u001b[1;31mTypeError\u001b[0m                                 Traceback (most recent call last)",
      "Input \u001b[1;32mIn [10]\u001b[0m, in \u001b[0;36m<cell line: 2>\u001b[1;34m()\u001b[0m\n\u001b[0;32m      1\u001b[0m \u001b[38;5;66;03m#Updation of character\u001b[39;00m\n\u001b[1;32m----> 2\u001b[0m str1[\u001b[38;5;241m0\u001b[39m]\u001b[38;5;241m=\u001b[39m\u001b[38;5;124m'\u001b[39m\u001b[38;5;124md\u001b[39m\u001b[38;5;124m'\u001b[39m\n\u001b[0;32m      3\u001b[0m \u001b[38;5;66;03m#deletion of character\u001b[39;00m\n\u001b[0;32m      4\u001b[0m \u001b[38;5;28;01mdel\u001b[39;00m str1[\u001b[38;5;241m2\u001b[39m]\n",
      "\u001b[1;31mTypeError\u001b[0m: 'str' object does not support item assignment"
     ]
    }
   ],
   "source": [
    "#Updation of character\n",
    "str1[0]='d'\n",
    "#deletion of character\n",
    "del str1[2]"
   ]
  },
  {
   "cell_type": "code",
   "execution_count": 11,
   "id": "5011670a",
   "metadata": {},
   "outputs": [
    {
     "name": "stdout",
     "output_type": "stream",
     "text": [
      "My name is Gauri\n"
     ]
    }
   ],
   "source": [
    "str1=\"My name is Gauri\"\n",
    "print(str1)"
   ]
  },
  {
   "cell_type": "code",
   "execution_count": 12,
   "id": "7305f479",
   "metadata": {},
   "outputs": [
    {
     "name": "stdout",
     "output_type": "stream",
     "text": [
      "\n",
      "Print String in Positional order:\n",
      "python programming language\n"
     ]
    }
   ],
   "source": [
    "#Default order\n",
    "str=\"{} {} {}\".format('python','programming','language')\n",
    "print(\"\\nPrint String in Positional order:\")\n",
    "print(str)"
   ]
  },
  {
   "cell_type": "code",
   "execution_count": 13,
   "id": "899ab393",
   "metadata": {},
   "outputs": [
    {
     "name": "stdout",
     "output_type": "stream",
     "text": [
      "\n",
      "Print String in Positional order:\n",
      "programming python language\n"
     ]
    }
   ],
   "source": [
    "#Positional formatting\n",
    "str=\"{1} {0} {2}\".format('python','programming','language')\n",
    "print(\"\\nPrint String in Positional order:\")\n",
    "print(str)"
   ]
  },
  {
   "cell_type": "code",
   "execution_count": 14,
   "id": "44b92920",
   "metadata": {},
   "outputs": [
    {
     "name": "stdout",
     "output_type": "stream",
     "text": [
      "\n",
      "Print String in Positional order:\n",
      "python programming language\n"
     ]
    }
   ],
   "source": [
    "#keyword formatting\n",
    "str=\"{a} {e} {c}\".format(a='python',e='programming',c='language')\n",
    "print(\"\\nPrint String in Positional order:\")\n",
    "print(str)"
   ]
  },
  {
   "cell_type": "code",
   "execution_count": 15,
   "id": "21b1824b",
   "metadata": {},
   "outputs": [
    {
     "name": "stdout",
     "output_type": "stream",
     "text": [
      "[1, 2, 3, 'abes', 12.5]\n"
     ]
    },
    {
     "data": {
      "text/plain": [
       "[1, 2, 3]"
      ]
     },
     "execution_count": 15,
     "metadata": {},
     "output_type": "execute_result"
    }
   ],
   "source": [
    "#list\n",
    "L=[1,2,3,\"abes\",12.5]\n",
    "print(L)\n",
    "L[0:3]"
   ]
  },
  {
   "cell_type": "code",
   "execution_count": 16,
   "id": "0b1c015f",
   "metadata": {},
   "outputs": [
    {
     "name": "stdout",
     "output_type": "stream",
     "text": [
      "[123, 'bhg', 123, 'bhg']\n",
      "['abcd', 786, 2.23, 'john', 70.2, 123, 'bhg']\n"
     ]
    }
   ],
   "source": [
    "list1=['abcd',786,2.23,'john',70.2]\n",
    "list2=[123,'bhg']\n",
    "print(list2*2)\n",
    "print(list1+list2)"
   ]
  },
  {
   "cell_type": "code",
   "execution_count": 17,
   "id": "8323aed0",
   "metadata": {},
   "outputs": [
    {
     "name": "stdout",
     "output_type": "stream",
     "text": [
      "enter a number25\n",
      "25.\n"
     ]
    }
   ],
   "source": [
    "#take input\n",
    "num=int(input(\"enter a number\"))\n",
    "print(num,'',sep='.')"
   ]
  },
  {
   "cell_type": "code",
   "execution_count": 19,
   "id": "08d68d26",
   "metadata": {},
   "outputs": [
    {
     "name": "stdout",
     "output_type": "stream",
     "text": [
      "Enter any sequence12,34,56,67,1\n"
     ]
    }
   ],
   "source": [
    "#take input and split into words\n",
    "str=input(\"Enter any sequence\")\n",
    "\n"
   ]
  },
  {
   "cell_type": "code",
   "execution_count": 27,
   "id": "14df3b36",
   "metadata": {},
   "outputs": [
    {
     "name": "stdout",
     "output_type": "stream",
     "text": [
      "['12,34,56,67,1']\n"
     ]
    }
   ],
   "source": [
    "l=str.split()\n",
    "print(l)\n"
   ]
  },
  {
   "cell_type": "code",
   "execution_count": 29,
   "id": "104901a2",
   "metadata": {},
   "outputs": [
    {
     "name": "stdout",
     "output_type": "stream",
     "text": [
      "(12, 'abc', 'john', 567, 'Guari')\n"
     ]
    }
   ],
   "source": [
    "#tuples\n",
    "t1=(12,\"abc\",\"john\",567,\"Guari\")\n",
    "t2=(123,\"jonny\")\n",
    "print(t1)"
   ]
  },
  {
   "cell_type": "code",
   "execution_count": 33,
   "id": "ef48984d",
   "metadata": {},
   "outputs": [
    {
     "name": "stdout",
     "output_type": "stream",
     "text": [
      "12\n",
      "('john', 567, 'Guari')\n",
      "('abc', 'john')\n",
      "(12, 'abc', 'john', 567)\n",
      "(12, 'abc', 'john', 567, 'Guari', 12, 'abc', 'john', 567, 'Guari')\n",
      "(12, 'abc', 'john', 567, 'Guari', 123, 'jonny')\n"
     ]
    }
   ],
   "source": [
    "print(t1[0])\n",
    "print(t1[2:])\n",
    "print(t1[1:3])\n",
    "print(t1[:4])\n",
    "print(t1*2)\n",
    "print(t1+t2)"
   ]
  },
  {
   "cell_type": "code",
   "execution_count": 39,
   "id": "5b0e2324",
   "metadata": {},
   "outputs": [
    {
     "ename": "TypeError",
     "evalue": "'tuple' object does not support item assignment",
     "output_type": "error",
     "traceback": [
      "\u001b[1;31m---------------------------------------------------------------------------\u001b[0m",
      "\u001b[1;31mTypeError\u001b[0m                                 Traceback (most recent call last)",
      "Input \u001b[1;32mIn [39]\u001b[0m, in \u001b[0;36m<cell line: 3>\u001b[1;34m()\u001b[0m\n\u001b[0;32m      1\u001b[0m t1\u001b[38;5;241m=\u001b[39m(\u001b[38;5;241m12\u001b[39m,\u001b[38;5;124m\"\u001b[39m\u001b[38;5;124mabc\u001b[39m\u001b[38;5;124m\"\u001b[39m,\u001b[38;5;124m\"\u001b[39m\u001b[38;5;124mjohn\u001b[39m\u001b[38;5;124m\"\u001b[39m,\u001b[38;5;241m567\u001b[39m,\u001b[38;5;124m\"\u001b[39m\u001b[38;5;124mGuari\u001b[39m\u001b[38;5;124m\"\u001b[39m)\n\u001b[0;32m      2\u001b[0m \u001b[38;5;28mlist\u001b[39m\u001b[38;5;241m=\u001b[39m[\u001b[38;5;241m12\u001b[39m,\u001b[38;5;124m\"\u001b[39m\u001b[38;5;124mabc\u001b[39m\u001b[38;5;124m\"\u001b[39m,\u001b[38;5;124m\"\u001b[39m\u001b[38;5;124mjohn\u001b[39m\u001b[38;5;124m\"\u001b[39m,\u001b[38;5;241m567\u001b[39m,\u001b[38;5;124m\"\u001b[39m\u001b[38;5;124mGuari\u001b[39m\u001b[38;5;124m\"\u001b[39m]\n\u001b[1;32m----> 3\u001b[0m t1[\u001b[38;5;241m2\u001b[39m]\u001b[38;5;241m=\u001b[39m\u001b[38;5;241m1000\u001b[39m\n\u001b[0;32m      4\u001b[0m \u001b[38;5;28mlist\u001b[39m[\u001b[38;5;241m2\u001b[39m]\u001b[38;5;241m=\u001b[39m\u001b[38;5;241m1000\u001b[39m\n\u001b[0;32m      5\u001b[0m \u001b[38;5;28mprint\u001b[39m(t1)\n",
      "\u001b[1;31mTypeError\u001b[0m: 'tuple' object does not support item assignment"
     ]
    }
   ],
   "source": [
    "t1=(12,\"abc\",\"john\",567,\"Guari\")\n",
    "list=[12,\"abc\",\"john\",567,\"Guari\"]\n",
    "t1[2]=1000\n",
    "list[2]=1000\n",
    "print(t1)\n",
    "\n"
   ]
  },
  {
   "cell_type": "code",
   "execution_count": 43,
   "id": "3e8acf35",
   "metadata": {},
   "outputs": [],
   "source": [
    "#dictionary\n",
    "dict1={}\n",
    "dict1['one']=\"This is programm\"\n",
    "dict1[2]=\"This is python programm\"\n",
    "dict2={123,\"Gauri\",34.6,\"Rajesh\"}"
   ]
  },
  {
   "cell_type": "code",
   "execution_count": 47,
   "id": "ae6c3f81",
   "metadata": {},
   "outputs": [
    {
     "name": "stdout",
     "output_type": "stream",
     "text": [
      "This is programm\n",
      "{'Rajesh', 34.6, 123, 'Gauri'}\n"
     ]
    }
   ],
   "source": [
    "print(dict1['one'])\n",
    "print(dict2)"
   ]
  },
  {
   "cell_type": "code",
   "execution_count": 5,
   "id": "58e021af",
   "metadata": {},
   "outputs": [
    {
     "name": "stdout",
     "output_type": "stream",
     "text": [
      "dict_keys(['name', 'id', 'dept'])\n",
      "{'name': 'Gauri', 'id': 200305105102, 'dept': 'CSE'}\n",
      "dict_values(['Gauri', 200305105102, 'CSE'])\n"
     ]
    }
   ],
   "source": [
    "dict3={'name':\"Gauri\",'id': 200305105102,\"dept\":\"CSE\"}\n",
    "print(dict3.keys())\n",
    "print(dict3)\n",
    "print(dict3.values())"
   ]
  },
  {
   "cell_type": "code",
   "execution_count": null,
   "id": "3df5e004",
   "metadata": {},
   "outputs": [],
   "source": []
  },
  {
   "cell_type": "code",
   "execution_count": null,
   "id": "f84bded5",
   "metadata": {},
   "outputs": [],
   "source": []
  }
 ],
 "metadata": {
  "kernelspec": {
   "display_name": "Python 3 (ipykernel)",
   "language": "python",
   "name": "python3"
  },
  "language_info": {
   "codemirror_mode": {
    "name": "ipython",
    "version": 3
   },
   "file_extension": ".py",
   "mimetype": "text/x-python",
   "name": "python",
   "nbconvert_exporter": "python",
   "pygments_lexer": "ipython3",
   "version": "3.9.12"
  }
 },
 "nbformat": 4,
 "nbformat_minor": 5
}
