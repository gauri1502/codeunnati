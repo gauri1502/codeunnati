{
 "cells": [
  {
   "cell_type": "code",
   "execution_count": 2,
   "id": "4c513b82",
   "metadata": {},
   "outputs": [
    {
     "name": "stdout",
     "output_type": "stream",
     "text": [
      "List before swapping :  [55, 7, 56, 90, 3, 87]\n",
      "List after Swapping :  [87, 7, 56, 90, 3, 55]\n"
     ]
    }
   ],
   "source": [
    "#Write a Python program to swap first and last element of the list.\n",
    "list = [55, 7, 56, 90, 3, 87]\n",
    "print(\"List before swapping : \", list)\n",
    "length = len(list)    #lenght of list \n",
    "#swapping\n",
    "temp = list[0]\n",
    "list[0] = list[length - 1]\n",
    "list[length - 1] = temp\n",
    "\n",
    "print(\"List after Swapping : \", list)"
   ]
  },
  {
   "cell_type": "code",
   "execution_count": 4,
   "id": "186fd5fa",
   "metadata": {},
   "outputs": [
    {
     "name": "stdout",
     "output_type": "stream",
     "text": [
      "Enter a letter:amaama\n",
      "The letter is a palindrome\n"
     ]
    }
   ],
   "source": [
    "#Write a python program to find whether given string is palindrome.\n",
    "string=input((\"Enter a letter:\"))  \n",
    "if(string==string[::-1]):  \n",
    "      print(\"The letter is a palindrome\")  \n",
    "else:  \n",
    "      print(\"The letter is not a palindrome\")  "
   ]
  },
  {
   "cell_type": "code",
   "execution_count": 1,
   "id": "22e35ff1",
   "metadata": {},
   "outputs": [
    {
     "name": "stdout",
     "output_type": "stream",
     "text": [
      "[10 20 30 40 50]\n",
      "int32\n",
      "[10. 20. 30. 40. 50.]\n",
      "float64\n"
     ]
    }
   ],
   "source": [
    "#Given a NumPy array whose underlying data is of 'int32' type. Change the dtype of the given object to\n",
    "#'float64'.\n",
    "#a=[10, 20, 30, 40, 50]\n",
    "\n",
    "import numpy as np\n",
    "arr = np.array([10, 20, 30, 40, 50])\n",
    "print(arr)\n",
    "print(arr.dtype)\n",
    "# change the dtype to 'float64'\n",
    "arr = arr.astype('float64')\n",
    "print(arr)\n",
    "print(arr.dtype)"
   ]
  },
  {
   "cell_type": "code",
   "execution_count": 3,
   "id": "76998fa2",
   "metadata": {},
   "outputs": [
    {
     "name": "stdout",
     "output_type": "stream",
     "text": [
      "[28, 40, 22]\n",
      "[24, 26, 58]\n",
      "[30, 72, 34]\n"
     ]
    }
   ],
   "source": [
    "#Write a python program to add matrices of dimension 3-by-3 with given matrix\n",
    "a=[[9, 10, 11],\n",
    "  [12, 13, 14],\n",
    "  [15, 16, 17]]\n",
    "\n",
    "b=[[19, 30, 11],\n",
    "   [12, 13, 44],\n",
    "   [15, 56, 17]]\n",
    "\n",
    "sum = [[0,0,0],\n",
    "         [0,0,0],\n",
    "         [0,0,0]]\n",
    "\n",
    "for i in range(len(a)):      #rows\n",
    "   for j in range(len(a[0])):       #columns\n",
    "       sum[i][j] = a[i][j] + b[i][j]\n",
    "for s in sum:\n",
    "   print(s)\n",
    "\n"
   ]
  },
  {
   "cell_type": "code",
   "execution_count": 13,
   "id": "27c45410",
   "metadata": {},
   "outputs": [
    {
     "data": {
      "image/png": "[encoded data removed]",
      "text/plain": [
       "<Figure size 432x288 with 1 Axes>"
      ]
     },
     "metadata": {
      "needs_background": "light"
     },
     "output_type": "display_data"
    }
   ],
   "source": [
    "# Write a python Matplotlib program to plot graph between x & y coordinates for below values:\n",
    "#x = [1, 2, 3, 4, 5, 6, 7, 8]\n",
    "#y = [2, 3, 1, 3, 1, 4, 2, 3]\n",
    "import matplotlib.pyplot as plt\n",
    "x = [1, 2, 3, 4, 5, 6, 7, 8]\n",
    "y = [2, 3, 1, 3, 1, 4, 2, 3]\n",
    "plt.plot(x,y)\n",
    "plt.xlabel(\"X-axis\")\n",
    "plt.ylabel(\"Y-axis\")\n",
    "plt.title(\"Assessment Graph\")\n",
    "plt.show()"
   ]
  },
  {
   "cell_type": "code",
   "execution_count": 16,
   "id": "dd9f5785",
   "metadata": {},
   "outputs": [
    {
     "data": {
      "text/plain": [
       "<matplotlib.collections.PathCollection at 0x19aa29cd370>"
      ]
     },
     "execution_count": 16,
     "metadata": {},
     "output_type": "execute_result"
    },
    {
     "data": {
      "image/png": "[encoded data removed]",
      "text/plain": [
       "<Figure size 432x288 with 1 Axes>"
      ]
     },
     "metadata": {
      "needs_background": "light"
     },
     "output_type": "display_data"
    }
   ],
   "source": [
    "#Write a program to connect scatterplot points with line in Matplotlib?\n",
    "import numpy as np\n",
    "import matplotlib.pyplot as plt\n",
    "x = [0.1, 0.2, 0.3, 0.4, 0.5]\n",
    "y = [4.2,-0.3, -8.5, 5.2, -6.0]\n",
    "plt.scatter(x,y)"
   ]
  },
  {
   "cell_type": "code",
   "execution_count": null,
   "id": "be1442b1",
   "metadata": {},
   "outputs": [],
   "source": []
  }
 ],
 "metadata": {
  "kernelspec": {
   "display_name": "Python 3 (ipykernel)",
   "language": "python",
   "name": "python3"
  },
  "language_info": {
   "codemirror_mode": {
    "name": "ipython",
    "version": 3
   },
   "file_extension": ".py",
   "mimetype": "text/x-python",
   "name": "python",
   "nbconvert_exporter": "python",
   "pygments_lexer": "ipython3",
   "version": "3.9.12"
  }
 },
 "nbformat": 4,
 "nbformat_minor": 5
}
